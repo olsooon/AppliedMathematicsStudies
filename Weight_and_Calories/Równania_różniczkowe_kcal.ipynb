{
  "cells": [
    {
      "attachments": {},
      "cell_type": "markdown",
      "metadata": {
        "id": "MuHRygyDA9Kf"
      },
      "source": [
        "# **PROGNOZA ZMIANY WAGI CZŁOWIEKA W OPARCIU O RÓWNANIA RÓŻNICZKOWE**\n",
        "\n",
        "\n",
        "\n",
        "\n"
      ]
    },
    {
      "attachments": {},
      "cell_type": "markdown",
      "metadata": {
        "id": "xDunhctPA9Ki"
      },
      "source": [
        "Weronika Olejarnik, Aleksandra Szczur, Karolina Bakalarz, Agnieszka Staszkiewicz"
      ]
    },
    {
      "attachments": {},
      "cell_type": "markdown",
      "metadata": {
        "id": "OMAl_I3J1dzj"
      },
      "source": [
        "**OPIS PROJEKTU**\n",
        "\n",
        "W związku z utrzymującym się od wielu lat trendem różnych diet oraz szerzącej się otyłości szkodzącej zdrowiu, przy pomocy równań różniczkowych przewidzimy zmiany masy ciała człowieka. Każda dieta opiera się na odpowiedniej ilości kalorii (kcal) spożywanych w ciągu dnia. W celu obliczenia potrzebnej do utrzymania organizmu energii opracowano wskaźnik Podstawowej Przemiany Materii (BMR). Wskaźnik ten informuje jednak tylko o energii potrzebnej w stanie spoczynku. Dlatego w naszej pracy posłużymy się również współczynikiem odpowiadający aktywności fizycznej, aby dostosować model do rzeczywistego zaporzebowanie.\n",
        "\n",
        "\n"
      ]
    },
    {
      "attachments": {},
      "cell_type": "markdown",
      "metadata": {
        "id": "zyyNNwmx3RcA"
      },
      "source": [
        "CELE:\n",
        "\n",
        "\n",
        "*   Wizualizacja statystyk masy ciała na skalę światową\n",
        "*   Model analityczny zmiany masy ciała i sprawdzenie go w rzeczywistości\n",
        "*   Analiza i implemetacja modelu/modeli numerycznych zmiany wagi\n",
        "*   Aplikacja, która na podstawie wpisanych danych oblicza odpowiednie dzienne zapotrzebowaie kalorii\n",
        "\n"
      ]
    },
    {
      "attachments": {},
      "cell_type": "markdown",
      "metadata": {
        "id": "dTLG7EjbA9Kj"
      },
      "source": [
        "# **1. WSTĘP**"
      ]
    },
    {
      "attachments": {},
      "cell_type": "markdown",
      "metadata": {
        "id": "gscB3cJGcXVo"
      },
      "source": [
        "Nadwaga i otyłość to choroby spowodowane nadmiernym magazynowaniem tłuszczu w organizmie. Prawie jedna trzecia światowej populacji jest obecnie klasyfikowana jako osoby z nadwagą lub otyłością.\n",
        "\n",
        "Zagrożeniami, z którymi możemy mieć wówczas do czynienia to m.in.:\n",
        "* cukrzyca\n",
        "* wysokie ciśnienie krwi\n",
        "* choroby serca\n",
        "\n",
        "Według przewidywań ponad połowa światowej populacji do 2035 roku będzie miała nadwagę lub otyłość."
      ]
    },
    {
      "cell_type": "code",
      "execution_count": null,
      "metadata": {
        "colab": {
          "base_uri": "https://localhost:8080/",
          "height": 130
        },
        "id": "zffSPd9DA9Kl",
        "outputId": "1d4ddc0f-6c1f-44ce-a035-c3e24d75f66b"
      },
      "outputs": [
        {
          "ename": "SyntaxError",
          "evalue": "ignored",
          "output_type": "error",
          "traceback": [
            "\u001b[0;36m  File \u001b[0;32m\"<ipython-input-4-614ee0bbb1bf>\"\u001b[0;36m, line \u001b[0;32m1\u001b[0m\n\u001b[0;31m    using Plots\u001b[0m\n\u001b[0m          ^\u001b[0m\n\u001b[0;31mSyntaxError\u001b[0m\u001b[0;31m:\u001b[0m invalid syntax\n"
          ]
        }
      ],
      "source": [
        "#Wykres przedstawiający procent osób chorujących na nadwagę od 1975 do 2015 roku na świecie oraz na dwóch kontynentach (Ameryka i Europa)\n",
        "using Plots\n",
        "\n",
        "lata = [1975,1980,1985,1990,1995,2000,2005,2010,2015]\n",
        "swiat = [20.2,21.7,23.3,25.2,27.3,29.7,32.3,35.2,38.4]\n",
        "ameryki = [35,37.9,41.1,44.8,48.7,52.5,56.1,59.5,62.7]\n",
        "europa = [40,42.7,45.4,48.2,50.9,53.5,56,58.7,61.7]\n",
        "\n",
        "p_1 = plot(lata, swiat)\n",
        "p_2 = plot(lata,ameryki)\n",
        "p_3 = plot(lata,europa)\n",
        "\n",
        "plot(lata, swiat, label=\"Świat\", linewidth=2)\n",
        "plot!(lata, ameryki, label=\"Ameryki\", linewidth=2)\n",
        "plot!(lata, europa,label=\"Europa\", linewidth=2)\n",
        "\n",
        "ylims!(0,100)\n",
        "xlims!(1975,2015)\n",
        "\n",
        "title!(\"Procent osób z nadwagą\")\n",
        "xlabel!(\"Rok\")\n",
        "ylabel!(\"Procent\")"
      ]
    },
    {
      "attachments": {},
      "cell_type": "markdown",
      "metadata": {
        "id": "CAlSDjwOgcEU"
      },
      "source": [
        "Aby móc stwierdzić, jak dużo organizm powinien spożywać kilokalorii, opracowano wskaźnik Podstawowej Przemiany Materii (BMR). W naszym modelu będziemy opierać się właśnie na tym wskaźniku rozszerzonym o współczynnik odpowiadający za naszą aktywność, co pozwoli na lepsze dostosowanie modelu do bardziej rzeczywistego zapotrzebowania."
      ]
    },
    {
      "attachments": {},
      "cell_type": "markdown",
      "metadata": {
        "id": "E27dZPKXg54e"
      },
      "source": [
        "W tym celu zajmiemy się modelowaniem zmiany wagi za pomocą równań różniczkowych, który pozwoli na dobre przewidzenie masy ciała człowieka oraz pozwoli nam ją utrzymać."
      ]
    },
    {
      "attachments": {},
      "cell_type": "markdown",
      "metadata": {
        "id": "uG3tgBwDA9Kv"
      },
      "source": [
        "# **2. TEORIA**"
      ]
    },
    {
      "attachments": {},
      "cell_type": "markdown",
      "metadata": {
        "id": "_kIRZ5XEA9Kw"
      },
      "source": [
        "**Wskaźnik BMR/PPM (Basal Metabolic Rate/Podstawowa przemiana materii)** -\n",
        "wskaźnik, który określa średnią ilość energii jaką musi dostarczyć do naszego\n",
        "organizmu każdego dnia, aby utrzymać prawidłowe funkcjonowanie naszego\n",
        "organizmu\n",
        "\n",
        "**Bilans energetyczny** - różnica między ilością kalorii dostarczanych przez\n",
        "pokarm do naszego organizmu, a kalorii wykorzystanych przez nasz organizm\n",
        "każdego dnia\n",
        "\n",
        "**Całkowita przemiana materii (CPM)** - ilość dodatkowej energii, którą organizm\n",
        "zużywa podczas wykonywania aktywności fizycznej.\n",
        "\n",
        "**Kaloria** - pozaukładowa jednostka fizyczna, ilość ciepła potrzebna do podniesienia\n",
        "temperatury 1 grama wody o jeden stopień Celsjusza.\n",
        "\n",
        "**Współczynnik aktywności fizycznej PAL (ang. Physical Activity Level)** - aktywność\n",
        "fizyczna, w odniesieniu do całkowitej przemiany materii. Jest to krotność PPM/BMR,\n",
        "określająca całkowite wydatki energetyczne organizmu. Wartość ta reprezentuje\n",
        "termiczny efekt ruchu, ćwiczeń.\n",
        "\n"
      ]
    },
    {
      "attachments": {},
      "cell_type": "markdown",
      "metadata": {
        "id": "49ojHnOhA9Kx"
      },
      "source": [
        "Obliczamy go ze wzoru:\n",
        "\n",
        "$${PAL}=\\frac{CPM}{BMR}$$\n",
        "\n",
        "Gdzie:\n",
        "* $PAL$ - współczynnik aktywności fizycznej\n",
        "* $CPM$ - całkowita przemiana materii\n",
        "* $BMR$ - podstawowa przemiana materii"
      ]
    },
    {
      "attachments": {},
      "cell_type": "markdown",
      "metadata": {
        "id": "6K7xdvQjA9Kx"
      },
      "source": [
        "Równanie Mifflina St Jeora\n",
        "\n",
        "\n",
        "$$P=10m+6.25h-5a+s$$\n",
        "\n",
        "\n",
        "Gdzie:\n",
        "* $P$ - podstawowa przemiana materii (BMR)\n",
        "* $m$ - masa w kilogramach\n",
        "* $a$ - wiek w latach\n",
        "* $h$ - wzrost w centymetrach\n",
        "* $s$ - współczynnik płci dla mężczyzn jest to +5, a dla kobiet -161"
      ]
    },
    {
      "attachments": {},
      "cell_type": "markdown",
      "metadata": {
        "id": "IUXEK08XA9Ky"
      },
      "source": [
        "Całkowite zapotrzebowanie energetyczne\n",
        "\n",
        "\n",
        "$$T=fP$$\n",
        "\n",
        "Gdzie:\n",
        "* $T$ - całkowite zapotrzebowanie energetyczne\n",
        "* $P$ - podstawowa przemiana materii (BMR)\n",
        "* $f$ - współczynnik aktywności (PAL)"
      ]
    },
    {
      "attachments": {},
      "cell_type": "markdown",
      "metadata": {
        "id": "cnk6vii0A9Ky"
      },
      "source": [
        "Czyli nasz bilans dzienny możemy określić wzorem:\n"
      ]
    },
    {
      "attachments": {},
      "cell_type": "markdown",
      "metadata": {
        "id": "BwOubmdbA9Kz"
      },
      "source": [
        "\n",
        "$$B=n-T$$\n",
        "\n",
        "Gdzie:\n",
        "* $B$ - bilans energetyczny\n",
        "* $n$ - dzienne spożycie kalorii\n",
        "* $T$ - całkowite zapotrzebowanie energetyczne\n",
        "\n",
        "\n"
      ]
    },
    {
      "attachments": {},
      "cell_type": "markdown",
      "metadata": {
        "id": "Ddwc_ll2A9Kz"
      },
      "source": [
        "# **3. ROZWIĄZANIE ANALITYCZNE**"
      ]
    },
    {
      "attachments": {},
      "cell_type": "markdown",
      "metadata": {
        "id": "y77XlmbdA9Kz"
      },
      "source": [
        "Pierwsze prawo termodynamiki:\n",
        "\n",
        "$$\\Delta E = E_{d}-W$$"
      ]
    },
    {
      "attachments": {},
      "cell_type": "markdown",
      "metadata": {
        "id": "w7YdIG0RA9K0"
      },
      "source": [
        "$$nadwyzka/niedobor = kcal_{dostarczone} - kcal_{spalone}$$"
      ]
    },
    {
      "attachments": {},
      "cell_type": "markdown",
      "metadata": {
        "id": "v1vBDWYkA9K0"
      },
      "source": [
        "\n",
        "$$nadwyzka_{d}/niedobor_{d} = n-T, $$"
      ]
    },
    {
      "attachments": {},
      "cell_type": "markdown",
      "metadata": {
        "id": "St_7Yfe5A9K0"
      },
      "source": [
        "\n",
        "\n",
        "gdzie   $T=f(10m+6.25h-5a+s)$"
      ]
    },
    {
      "attachments": {},
      "cell_type": "markdown",
      "metadata": {
        "id": "ZtkB_7heA9K1"
      },
      "source": [
        "$$\\Delta m = \\frac{n-f(10m+6.25h-5a+s)}{7700kcal} $$"
      ]
    },
    {
      "attachments": {},
      "cell_type": "markdown",
      "metadata": {
        "id": "J3hysftxA9K1"
      },
      "source": [
        "Dlatego w naszym równaniu zmieniamy naszą stałą $m$ na funkcje $m(t)$. Zmiana wagi jest pochodną $m(t)$\n",
        "\n"
      ]
    },
    {
      "attachments": {},
      "cell_type": "markdown",
      "metadata": {
        "id": "2iPUMGf2A9K1"
      },
      "source": [
        "\n",
        "$$\\frac{\\operatorname{d}\\!{m}}{\\operatorname{d}\\!t} = \\frac{n-f(10m+6.25h-5a+s)}{7700}$$\n"
      ]
    },
    {
      "attachments": {},
      "cell_type": "markdown",
      "metadata": {
        "id": "NjFDDOTdA9K1"
      },
      "source": [
        "Jest to równanie różniczkowe zwyczajne pierwszego rzędu. Możemy rozwiązać dla $m(t)$ metodą rozdzielonych zmiennych. Dlatego przekształcamy dalej nasz równanie."
      ]
    },
    {
      "attachments": {},
      "cell_type": "markdown",
      "metadata": {
        "id": "zkL39vSqA9K2"
      },
      "source": [
        "\n",
        "$$\\frac{\\operatorname{d}\\!{m}}{\\operatorname{d}\\!t} = \\frac{n-f(10m+6.25h-5a+s)}{7700}$$\n"
      ]
    },
    {
      "attachments": {},
      "cell_type": "markdown",
      "metadata": {
        "id": "et_LOTA_A9K2"
      },
      "source": [
        "\n",
        "$$\\frac{\\operatorname{d}\\!{m}}{\\operatorname{d}\\!t} = \\frac{-fm}{770} + \\frac{n-f(6.25h-5a+s)}{7700}$$\n"
      ]
    },
    {
      "attachments": {},
      "cell_type": "markdown",
      "metadata": {
        "id": "76zLwDGWA9K2"
      },
      "source": [
        "Aby ułatwić nasze obliczenia użyjemy podstawienia $k=n-f(6.25h-5a+s)$"
      ]
    },
    {
      "attachments": {},
      "cell_type": "markdown",
      "metadata": {
        "id": "QkfnnYABA9K3"
      },
      "source": [
        "\n",
        "$$\\frac{\\operatorname{d}\\!{m}}{\\operatorname{d}\\!t} = \\frac{-10fm+k}{7700}$$\n"
      ]
    },
    {
      "attachments": {},
      "cell_type": "markdown",
      "metadata": {
        "id": "sv6MDprHA9K3"
      },
      "source": [
        "\n",
        "$$\\frac{\\operatorname{d}\\!{m}}{\\frac{-10fm+k}{7700}} = \\operatorname{d}\\!{t}$$\n"
      ]
    },
    {
      "attachments": {},
      "cell_type": "markdown",
      "metadata": {
        "id": "3rdng3crA9K3"
      },
      "source": [
        "\n",
        "$$\\int \\frac{\\operatorname{d}\\!{m}}{\\frac{-10fm+k}{7700}} = \\int \\operatorname{d}\\!{t}$$\n"
      ]
    },
    {
      "attachments": {},
      "cell_type": "markdown",
      "metadata": {
        "id": "aY9CcquuA9K4"
      },
      "source": [
        "\n",
        "$$\\frac{1}{\\frac{-f}{770}}\\ln\\left|\\frac{-fm+k}{7700}\\right|= t+ c_1$$\n"
      ]
    },
    {
      "attachments": {},
      "cell_type": "markdown",
      "metadata": {
        "id": "Q9HZxP8IA9K4"
      },
      "source": [
        "\n",
        "$$\\ln\\left|{\\frac{-10fm+k}{7700}}\\right|=\\frac{-f}{770} (t+ c_1)$$\n",
        "\n"
      ]
    },
    {
      "attachments": {},
      "cell_type": "markdown",
      "metadata": {
        "id": "7PcNPZ5aA9K4"
      },
      "source": [
        "\n",
        "\n",
        "$$\\frac{-10fm+k}{7700}= \\pm c_2e^{\\frac{-ft}{770}} $$\n",
        "\n"
      ]
    },
    {
      "attachments": {},
      "cell_type": "markdown",
      "metadata": {
        "id": "oz5b45nEA9K4"
      },
      "source": [
        "\n",
        "$$fm= 770\\left(\\pm c_2e^{\\frac{-ft}{770}}\\right) + \\frac{k}{10}$$\n"
      ]
    },
    {
      "attachments": {},
      "cell_type": "markdown",
      "metadata": {
        "id": "dNg0cdHIA9K5"
      },
      "source": [
        "Ustalmy $c_3=\\pm 770c_2 $"
      ]
    },
    {
      "attachments": {},
      "cell_type": "markdown",
      "metadata": {
        "id": "CQu68DNFA9K5"
      },
      "source": [
        "\n",
        "$$fm= c_3 e^{\\frac{-ft}{770}}+\\frac{k}{10}$$\n"
      ]
    },
    {
      "attachments": {},
      "cell_type": "markdown",
      "metadata": {
        "id": "A9czVETmA9K5"
      },
      "source": [
        "\n",
        "$$m= \\frac{c_3 e^{\\frac{-ft}{770}}}{f}+\\frac{k}{10f}$$\n"
      ]
    },
    {
      "attachments": {},
      "cell_type": "markdown",
      "metadata": {
        "id": "WZLTM054A9K6"
      },
      "source": [
        "Ustalamy $c_4=\\frac{c_3}{f}$\n"
      ]
    },
    {
      "attachments": {},
      "cell_type": "markdown",
      "metadata": {
        "id": "ey1p0h-YA9K6"
      },
      "source": [
        "$$m= c_4 e^{\\frac{-ft}{770}}+\\frac{k}{10f}$$\n"
      ]
    },
    {
      "attachments": {},
      "cell_type": "markdown",
      "metadata": {
        "id": "jgbiAV4zA9K7"
      },
      "source": [
        "Naszą wage w momencie $t=0$ oznaczamy jako $M_0$, jest to nasz warunek początkowy"
      ]
    },
    {
      "attachments": {},
      "cell_type": "markdown",
      "metadata": {
        "id": "nbQqG-l5A9K7"
      },
      "source": [
        "\n",
        "$$M_0=c_4 e^{0}+\\frac{k}{10f}$$\n"
      ]
    },
    {
      "attachments": {},
      "cell_type": "markdown",
      "metadata": {
        "id": "30k4piOJA9K7"
      },
      "source": [
        "\n",
        "\n",
        "$$c_4 = M_0 -\\frac{k}{10f}$$\n"
      ]
    },
    {
      "attachments": {},
      "cell_type": "markdown",
      "metadata": {
        "id": "2428J_eGA9K8"
      },
      "source": [
        "Po obliczeniu naszej stałej wstawiamy ją do równania i otrzymujemy\n",
        "\n",
        "\n",
        "$$m(t)= \\left(M_0 -\\frac{k}{10f}\\right)e^{\\frac{-ft}{770}}+\\frac{k}{10f}.$$\n"
      ]
    },
    {
      "attachments": {},
      "cell_type": "markdown",
      "metadata": {
        "id": "nQlH7_KEA9K8"
      },
      "source": [
        "\n",
        "# **4. WYKORZYSTANIE MODELU W RZECZYWISTOŚCI**"
      ]
    },
    {
      "attachments": {},
      "cell_type": "markdown",
      "metadata": {
        "id": "DvFPP54Mn2GA"
      },
      "source": [
        "Aby sprawdzić poprawność naszego modelu skonfrontowałyśmy kilku naszych znajomych, którzy chcieli podzielić się z nami swoimi danymi potrzebnymi do użycia modelu."
      ]
    },
    {
      "attachments": {},
      "cell_type": "markdown",
      "metadata": {
        "id": "SbI-rq6YA9K9"
      },
      "source": [
        "Pierwszą koleżanką jest Zuzanna. Zuzia to 20-latka mająca 173 cm wzrostu.Od 2022 roku chodzi 2 razy w tygodniu na siłownie oraz spożywa w ciągu dnia 1700 kcal."
      ]
    },
    {
      "attachments": {},
      "cell_type": "markdown",
      "metadata": {
        "id": "zrIUVZjZA9K-"
      },
      "source": [
        "Udostępnione dane wagi Zuzanny w poszczególnych miesiącach:\n",
        "* 1 styczeń 2022- 78 kg\n",
        "* 1 luty 2022- 75.8 kg (31 dni)\n",
        "* 1 marzec 2022-74.1kg (59 dni)\n",
        "* 1 kwiecień- 72.5kg (90 dni)\n",
        "* 1 maj - 71.3kg (120 dni)\n",
        "* 1 czerwiec - 69.4kg (151 dni)\n",
        "* 1 lipiec - 68kg (181 dni)\n",
        "* 1 sierpień - 66.2kg (212 dni)\n",
        "* 1 wrzesień - 65.5kg (243 dni)\n",
        "* 1 październik - 64.4kg (273 dni)\n",
        "* 1 listopad - 62.3kg (304 dni)\n",
        "* 1 grudzień -60kg (334 dni)\n",
        "* 1 styczeń 2023 - 59.7 kg(365 dni)"
      ]
    },
    {
      "attachments": {},
      "cell_type": "markdown",
      "metadata": {
        "id": "eAyPsAYVA9K_"
      },
      "source": [
        "Współczynnik aktywności Zuzanny obliczymy licząc średnią arytmetyczną po kolejno: pierwszym, drugim i trzecim miesiącu diety:"
      ]
    },
    {
      "attachments": {},
      "cell_type": "markdown",
      "metadata": {
        "id": "8OOEVKk2A9K_"
      },
      "source": [
        "\n",
        "$$k=1700-f(6.25*173-5*20-161)=1700-820.25f$$\n"
      ]
    },
    {
      "attachments": {},
      "cell_type": "markdown",
      "metadata": {
        "id": "IV51ZFptA9K_"
      },
      "source": [
        "\n",
        "$$m(31)= 75.8 = \\left(78 -\\frac{1700-820.25f_1}{10f_1}\\right)e^{\\frac{-31f_1}{770}}+\\frac{1700-820.25f_1}{10f_1}$$\n"
      ]
    },
    {
      "attachments": {},
      "cell_type": "markdown",
      "metadata": {
        "id": "ivhdYGkHA9LA"
      },
      "source": [
        "\n",
        "$$f_1 ≈ 1.41$$\n"
      ]
    },
    {
      "attachments": {},
      "cell_type": "markdown",
      "metadata": {
        "id": "I3wiJ4_hA9LA"
      },
      "source": [
        "\n",
        "$$m(59)= 74.1 = \\left(78 -\\frac{1700-820.25f_2}{10f_2}\\right)e^{\\frac{-59f_2}{770}}+\\frac{1700-820.25f_2}{10f_2}$$\n"
      ]
    },
    {
      "attachments": {},
      "cell_type": "markdown",
      "metadata": {
        "id": "KYimoLImA9LA"
      },
      "source": [
        "\n",
        "$$f_2 ≈ 1.40$$\n"
      ]
    },
    {
      "attachments": {},
      "cell_type": "markdown",
      "metadata": {
        "id": "dFmOIAhEA9LB"
      },
      "source": [
        "\n",
        "$$m(89)= 72.5 = \\left(78 -\\frac{1700-820.25f_3}{f_3}\\right)e^{\\frac{-89f_3}{770}}+\\frac{1700-820.25f_3}{10f_3}$$\n"
      ]
    },
    {
      "attachments": {},
      "cell_type": "markdown",
      "metadata": {
        "id": "Jvv1odp3A9LB"
      },
      "source": [
        "\n",
        "$$f_3 ≈ 1.38$$\n"
      ]
    },
    {
      "attachments": {},
      "cell_type": "markdown",
      "metadata": {
        "id": "apjW2rKNA9LB"
      },
      "source": [
        "Średnia wartość współczynnika $f$:\n",
        "\n",
        "$$f=\\frac{f_1+f_2+f_3}{3} ≈ 1.4$$\n",
        "\n"
      ]
    },
    {
      "cell_type": "code",
      "execution_count": null,
      "metadata": {
        "id": "br6b0UJVA9LC"
      },
      "outputs": [],
      "source": [
        "using Plots\n",
        "\n",
        "v = 1.4\n",
        "y0 = 78\n",
        "j = 173\n",
        "a = 20\n",
        "s = -161\n",
        "n = 1700\n",
        "\n",
        "t = collect(range(0, stop=1500))\n",
        "X = (y0 .- (n .- v .* (6.25 .* j .- 5 .* a .+ s))./(10 .* v)) .* exp.(-(v .* t)./770) .+ (n .- v .* (6.25 .* j .- 5 .* a .+ s))./(10 .* v) #nasz model\n",
        "x_values=[31,59,90,120,151,181,212,243,273,304,334,365] #dni diety\n",
        "y_values=[75.8,74.1,72.5,71.3,69.4,68,66.2,65.5, 64.4, 62.3, 60, 59.7] #kolejne wartości wagi Zuzi\n",
        "\n",
        "plot(t, X, color=\"red\", label = \"Model\", linewidth=1)\n",
        "scatter!(x_values, y_values, label = \"Rzeczywista waga\", color = \"blue\")\n",
        "\n",
        "plot!(legend=:bottomleft)\n",
        "xlims!(0, 380)\n",
        "ylims!(58, 81)\n",
        "title!((\"Zmiana masy ciała Zuzanny\"))\n",
        "xlabel!(\"Czas [dni]\")\n",
        "ylabel!(\"Masa ciała [kg]\")"
      ]
    },
    {
      "attachments": {},
      "cell_type": "markdown",
      "metadata": {
        "id": "lep2ScutoVP8"
      },
      "source": [
        "Jak można zauważyć na wykresie model pokrywa się z rzeczywistością, w niektórych miejscach wręcz idealnie. Warto zaznaczyć, że model nie uwzględnia wahań wagi, które mogą być spowodowane cyklem miesiączkowym, ilościom spożytej soli, czy wody w ostatnim czasie. Są to czynniki, których niestety nie da się przewidzieć, jednak wykres pokazuje że, mimo wszystko, nasz wzór jest bardzo dokładny."
      ]
    },
    {
      "attachments": {},
      "cell_type": "markdown",
      "metadata": {
        "id": "uwtkWK_-A9LC"
      },
      "source": [
        "## **Adrian**"
      ]
    },
    {
      "attachments": {},
      "cell_type": "markdown",
      "metadata": {
        "id": "i1a4y9gupS4R"
      },
      "source": [
        "Kolejnym badanym jest Adrian. Używając naszego modelu przedstawimy na wykresie predykcję osiągnięcia jego docelowej wagi."
      ]
    },
    {
      "attachments": {},
      "cell_type": "markdown",
      "metadata": {
        "id": "OUcLK4MOA9LC"
      },
      "source": [
        "**Adrian** - mężczyzna, lat 20, waga początkowa 80kg, wzrost 179\n",
        "cm, trenujący futsal 2 razy w tygodniu, dzienna liczba kilokalorii 2000, waga po 30 dniach 78.5 kg, cel, który chce osiągnąć 74kg"
      ]
    },
    {
      "attachments": {},
      "cell_type": "markdown",
      "metadata": {
        "id": "qPLkKpPmqL0F"
      },
      "source": [
        "Obliczamy jego współczynnik aktywności pod 30 dniu diety:"
      ]
    },
    {
      "attachments": {},
      "cell_type": "markdown",
      "metadata": {
        "id": "vzt8IOYcA9LD"
      },
      "source": [
        "\n",
        "\n",
        "$$k=2000-f(6.25*179-5*20+5)=2000-1023.75f$$\n"
      ]
    },
    {
      "attachments": {},
      "cell_type": "markdown",
      "metadata": {
        "id": "5_orc-i6A9LD"
      },
      "source": [
        "\n",
        "$$m(30)= 78.5 = \\left(80 -\\frac{2000-1023.75f}{10f}\\right)e^{\\frac{-30f}{770}}+\\frac{2000-1023.75f}{10f}$$\n"
      ]
    },
    {
      "attachments": {},
      "cell_type": "markdown",
      "metadata": {
        "id": "ka7vxKgfA9LD"
      },
      "source": [
        "\n",
        "$$f ≈1.31$$\n"
      ]
    },
    {
      "attachments": {},
      "cell_type": "markdown",
      "metadata": {
        "id": "s0PQAqPEA9LD"
      },
      "source": [
        "Adrian chce ważyć 74 kilogramy, kiedy to osiągnie, jeśli nadal będzie spożywać 2000 kcal i utrzymywał swoją aktywność?"
      ]
    },
    {
      "attachments": {},
      "cell_type": "markdown",
      "metadata": {
        "id": "2v9Pg_k9A9LD"
      },
      "source": [
        "\n",
        "$$k=2000-f(6.25*179-5*20+5)=658.888$$\n"
      ]
    },
    {
      "attachments": {},
      "cell_type": "markdown",
      "metadata": {
        "id": "SCHwsILsA9LD"
      },
      "source": [
        "\n",
        "$$74 = \\left(80 -\\frac{658.888}{13.1}\\right)e^{\\frac{-1.31t}{770}}+\\frac{658.888}{13.1}$$\n"
      ]
    },
    {
      "attachments": {},
      "cell_type": "markdown",
      "metadata": {
        "id": "1mxLhX5ZA9LD"
      },
      "source": [
        "\n",
        "$$23.703 ≈ 29.703e^{\\frac{-1.31t}{770}}$$\n"
      ]
    },
    {
      "attachments": {},
      "cell_type": "markdown",
      "metadata": {
        "id": "Udp9HMzOA9LD"
      },
      "source": [
        "\n",
        "$$0.798 ≈ e^{\\frac{-1.31t}{770}}$$\n"
      ]
    },
    {
      "attachments": {},
      "cell_type": "markdown",
      "metadata": {
        "id": "9HJX4XurA9LE"
      },
      "source": [
        "\n",
        "$$t \\approx 132.63$$\n"
      ]
    },
    {
      "attachments": {},
      "cell_type": "markdown",
      "metadata": {
        "id": "yjFZEvFCA9LE"
      },
      "source": [
        "Aby osiągnąć ten cel Adrian potrzebuje jeszcze 133 dni diety (30 dni już za nim). Poźniej aby utrzymywać wagę 74 kg musi jeść codziennie: $T=1.31(740+6.25*179−5*20+5)= 2310.5 kcal$"
      ]
    },
    {
      "cell_type": "code",
      "execution_count": null,
      "metadata": {
        "id": "najaCDgpA9LE"
      },
      "outputs": [],
      "source": [
        "using Plots\n",
        "\n",
        "v = 1.31\n",
        "y0 = 80\n",
        "j = 179\n",
        "a = 20\n",
        "s = +5\n",
        "n = 2000\n",
        "t = collect(range(0, stop=1500))\n",
        "X = (y0 .- (n .- v .* (6.25 .* j .- 5 .* a .+ s))./(10 .* v)) .* exp.(-(v .* t)./770) .+ (n .- v .* (6.25 .* j .- 5 .* a .+ s))./(10 .* v) #nasz model\n",
        "x_values=[30] #dzień 30 diety\n",
        "y_values=[78.5] #rzeczywista waga w 30 dniu diety\n",
        "plot(t, X, color=\"red\", label = \"Model\", linewidth=1)\n",
        "scatter!(x_values, y_values, label = \"Rzeczywista waga\", color = \"blue\")\n",
        "P = (133, 74) #(dnień osiągnięcia celu, waga docelowa)\n",
        "scatter!(P, color = \"green\", label = \"Cel\")\n",
        "plot!(legend=:bottomleft)\n",
        "xlims!(0, 150)\n",
        "ylims!(70, 81)\n",
        "title!((\"Zmiana masy ciała Adriana\"))\n",
        "xlabel!(\"Czas [dni]\")\n",
        "ylabel!(\"Masa ciała [kg]\")"
      ]
    },
    {
      "attachments": {},
      "cell_type": "markdown",
      "metadata": {
        "id": "Mk5POL5wqSsz"
      },
      "source": [
        "Wykres pokazuje jak będzie zmieniać się waga Adriana, jeśli do końca będzie utrzymywał swoją aktywność fizyczną i spożywał podaną przez niego liczbę kalorii. Ciekawym faktem do zaznaczenia jest to, że nawet jeśli wzrost Adriana uległby zmianie, predykcja jego wagi będzię wyglądać inaczej niż na powyższym wykresie."
      ]
    },
    {
      "attachments": {},
      "cell_type": "markdown",
      "metadata": {
        "id": "38kzd_pbA9LE"
      },
      "source": [
        "## **Adam**"
      ]
    },
    {
      "attachments": {},
      "cell_type": "markdown",
      "metadata": {
        "id": "lf7F8940qt0u"
      },
      "source": [
        "Kolejny jest Adam. Powtózymy procedurę, którą wykonałyśmy w przypadku Adriana."
      ]
    },
    {
      "attachments": {},
      "cell_type": "markdown",
      "metadata": {
        "id": "d_Edi7wnA9LE"
      },
      "source": [
        "**Adam** - mężczyzna, lat 20, waga początkowa 92kg, wzrost 186 cm, siedzący tryb życia, dzienna liczba kilokalorii 1900, waga po 30 dniach 90 kg, cel, który chce osiągnąć 80kg"
      ]
    },
    {
      "attachments": {},
      "cell_type": "markdown",
      "metadata": {
        "id": "DsAV_-AEA9LE"
      },
      "source": [
        "Współczynnik aktywności po 30 dniach diety:\n",
        "\n",
        "\n",
        "$$k=1900-f(6.25*186-5*20+5)=1900-1067.5f$$\n"
      ]
    },
    {
      "attachments": {},
      "cell_type": "markdown",
      "metadata": {
        "id": "GSoMagNvA9LE"
      },
      "source": [
        "\n",
        "$$m(30)= 90 = \\left(92 -\\frac{1900-1067.5f}{10f}\\right)e^{\\frac{-30f}{770}}+\\frac{1900-1067.5f}{10f}$$\n"
      ]
    },
    {
      "attachments": {},
      "cell_type": "markdown",
      "metadata": {
        "id": "IkENg8kPA9LE"
      },
      "source": [
        "\n",
        "\n",
        "$$f ≈1.22$$\n"
      ]
    },
    {
      "attachments": {},
      "cell_type": "markdown",
      "metadata": {
        "id": "6LFB9Xj0A9LE"
      },
      "source": [
        "Adam chce ważyć 90 kg, kiedy to osiągnie, jeśli nadal będzie spożywać 1900 kcal i utrzymywał swoją aktywność?\n",
        "\n",
        "$$k=1900-1.22(6.25*186-5*20+5)=597.65$$\n"
      ]
    },
    {
      "attachments": {},
      "cell_type": "markdown",
      "metadata": {
        "id": "T_3xvPg3A9LF"
      },
      "source": [
        "\n",
        "$$80 = \\left(92 -\\frac{597.65}{12.2}\\right)e^{\\frac{-1.22t}{770}}+\\frac{597.65}{12.2}$$\n"
      ]
    },
    {
      "attachments": {},
      "cell_type": "markdown",
      "metadata": {
        "id": "2rC2UABYA9LF"
      },
      "source": [
        "\n",
        "$$31.01 = 43.01 e^{\\frac{-1.22t}{770}}$$\n"
      ]
    },
    {
      "attachments": {},
      "cell_type": "markdown",
      "metadata": {
        "id": "RZ6evehKA9LF"
      },
      "source": [
        "\n",
        "$$0.72 ≈ e^{\\frac{-1.22t}{770}}$$\n"
      ]
    },
    {
      "attachments": {},
      "cell_type": "markdown",
      "metadata": {
        "id": "Tt3KPDxQA9LF"
      },
      "source": [
        "\n",
        "$$t \\approx 207$$\n"
      ]
    },
    {
      "attachments": {},
      "cell_type": "markdown",
      "metadata": {
        "id": "gM0y-6vlA9LF"
      },
      "source": [
        "\n",
        "Aby osiągnąć ten cel Adam potrzebuje jeszcze 181 dni diety. Poźniej aby utrzymywać wagę 80 kg musi jeść codziennie: $T=1.22(800+6.25*186−5*20+5)= 2278,35 kcal$"
      ]
    },
    {
      "cell_type": "code",
      "execution_count": null,
      "metadata": {
        "id": "bNDcfcS5A9LF"
      },
      "outputs": [],
      "source": [
        "using Plots\n",
        "\n",
        "v = 1.22\n",
        "y0 = 92\n",
        "j = 186\n",
        "a = 20\n",
        "s = +5\n",
        "n = 1900\n",
        "t = collect(range(0, stop=1500))\n",
        "X = (y0 .- (n .- v .* (6.25 .* j .- 5 .* a .+ s))./(10 .* v)) .* exp.(-(v .* t)./770) .+ (n .- v .* (6.25 .* j .- 5 .* a .+ s))./(10 .* v) #model\n",
        "x_values=[30] #dzień 30 diety\n",
        "y_values=[90] #rzeczywista waga w 30 dniu diety\n",
        "plot(t, X, color=\"red\", label = \"Model\", linewidth=1)\n",
        "scatter!(x_values, y_values, label = \"Rzeczywista waga\", color = \"blue\")\n",
        "P = (207, 80) #(dnień osiągnięcia celu, waga docelowa)\n",
        "scatter!(P, color = \"green\", label = \"Cel\")\n",
        "plot!(legend=:bottomleft)\n",
        "xlims!(0, 250)\n",
        "ylims!(75, 95)\n",
        "title!((\"Zmiana masy ciała Miłosza\"))\n",
        "xlabel!(\"Czas [dni]\")\n",
        "ylabel!(\"Masa ciała [kg]\")"
      ]
    },
    {
      "attachments": {},
      "cell_type": "markdown",
      "metadata": {
        "id": "GMz6e7-wA9LF"
      },
      "source": [
        "## **Klaudia**\n",
        "\n"
      ]
    },
    {
      "attachments": {},
      "cell_type": "markdown",
      "metadata": {
        "id": "G4mxY7Zaq8fJ"
      },
      "source": [
        "U Klaudii znów ta sama procedura."
      ]
    },
    {
      "attachments": {},
      "cell_type": "markdown",
      "metadata": {
        "id": "6gYcN1PwA9LG"
      },
      "source": [
        "**Klaudia** - kobieta, lat 20, waga początkowa 66 kg, wzrost 163 cm, trenująca unihokej 3 razy w tygodniu , dzienna liczba kilokalorii 1700, waga po 28 dniach 65.2 kg, cel, który chce osiągnąć to 58 kg."
      ]
    },
    {
      "attachments": {},
      "cell_type": "markdown",
      "metadata": {
        "id": "PO7EmX9hA9LG"
      },
      "source": [
        "Współczynnik aktywności po 28 dniach diety:\n",
        "\n",
        "\n",
        "$$k=1700-f(6.25*163-5*20-161)=1700-757.75f$$\n"
      ]
    },
    {
      "attachments": {},
      "cell_type": "markdown",
      "metadata": {
        "id": "Ccsibfr7A9LH"
      },
      "source": [
        "\n",
        "$$m(28)= 65.2 = \\left(66.1 -\\frac{1700-757.75f}{10f}\\right)e^{\\frac{-28f}{770}}+\\frac{1700-757.75f}{10f}$$\n"
      ]
    },
    {
      "attachments": {},
      "cell_type": "markdown",
      "metadata": {
        "id": "Gbd1_AVMA9LH"
      },
      "source": [
        "\n",
        "$$f ≈1.38$$\n"
      ]
    },
    {
      "attachments": {},
      "cell_type": "markdown",
      "metadata": {
        "id": "epq9S_FkA9LH"
      },
      "source": [
        "Klaudia chce ważyć 58 kg, kiedy to osiągnie, jeśli nadal będzie spożywać 1700 kcal i utrzymywała swoją aktywność?\n",
        "\n",
        "\n",
        "$$k=1700-1.38(6.25*163-5*20-161)=654.305$$\n"
      ]
    },
    {
      "attachments": {},
      "cell_type": "markdown",
      "metadata": {
        "id": "VJP8HH0-A9LH"
      },
      "source": [
        "\n",
        "$$58 = \\left(66.1 -\\frac{654.305}{13.8}\\right)e^{\\frac{-1.38t}{770}}+\\frac{654.305}{13.8}$$\n"
      ]
    },
    {
      "attachments": {},
      "cell_type": "markdown",
      "metadata": {
        "id": "tSItUTmKA9LI"
      },
      "source": [
        "\n",
        "$$10.587 = 18.687 e^{\\frac{-1.38t}{770}}$$\n"
      ]
    },
    {
      "attachments": {},
      "cell_type": "markdown",
      "metadata": {
        "id": "ekelm1g5A9LI"
      },
      "source": [
        "\n",
        "$$0.567 ≈ e^{\\frac{-1.38t}{770}}$$\n"
      ]
    },
    {
      "attachments": {},
      "cell_type": "markdown",
      "metadata": {
        "id": "fel-EV1RA9LI"
      },
      "source": [
        "\n",
        "\n",
        "$$t \\approx 317$$\n",
        "\n",
        "\n"
      ]
    },
    {
      "attachments": {},
      "cell_type": "markdown",
      "metadata": {
        "id": "Yw5Ea82bA9LI"
      },
      "source": [
        "Aby osiągnąć ten cel Klaudia potrzebuje jeszcze 289 dni diety. Poźniej aby utrzymywać wagę 58 kg musi jeść codziennie: $T=1.38(580+6.25*163−5*20-161)=1846.1 kcal$"
      ]
    },
    {
      "cell_type": "code",
      "execution_count": null,
      "metadata": {
        "id": "0moR-zEoA9LJ"
      },
      "outputs": [],
      "source": [
        "using Plots\n",
        "\n",
        "v = 1.38\n",
        "y0 = 66.1\n",
        "j = 163\n",
        "a = 20\n",
        "s = +-161\n",
        "n = 1700\n",
        "t = collect(range(0, stop=1500))\n",
        "X = (y0 .- (n .- v .* (6.25 .* j .- 5 .* a .+ s))./(10 .* v)) .* exp.(-(v .* t)./770) .+ (n .- v .* (6.25 .* j .- 5 .* a .+ s))./(10 .* v) #model\n",
        "x_values=[28] #28 dzień diety\n",
        "y_values=[65.1] #rzeczywista waga w 28 dniu diety\n",
        "plot(t, X, color=\"red\", label = \"Model\", linewidth=1)\n",
        "scatter!(x_values, y_values, label = \"Rzeczywista waga\", color = \"blue\")\n",
        "P = (317, 58) #(dnień osiągnięcia celu, waga docelowa)\n",
        "scatter!(P, color = \"green\", label = \"Cel\")\n",
        "plot!(legend=:bottomleft)\n",
        "xlims!(0, 350)\n",
        "ylims!(57, 67)\n",
        "title!((\"Zmiana masy ciała Klaudii\"))\n",
        "xlabel!(\"Czas [dni]\")\n",
        "ylabel!(\"Masa ciała [kg]\")"
      ]
    },
    {
      "attachments": {},
      "cell_type": "markdown",
      "metadata": {
        "id": "t3umzGTJA9LJ"
      },
      "source": [
        "## **Ania**"
      ]
    },
    {
      "attachments": {},
      "cell_type": "markdown",
      "metadata": {
        "id": "TmoizNCTrEX9"
      },
      "source": [
        "Ania jest naszą kolejną badaną. Jej przypadek jest o wiele ciekawszy niż u poprzednich kolegów."
      ]
    },
    {
      "attachments": {},
      "cell_type": "markdown",
      "metadata": {
        "id": "yOEd4dEnA9LJ"
      },
      "source": [
        "**Ania** - kobieta, lat 20, waga początkowa 62 kg, wzrost 158cm, czasem spaceruje, dzienna liczba kilokalorii 1600, waga po 28 dniach to 61.6, cel, który chce osiąnąć to 53kg."
      ]
    },
    {
      "attachments": {},
      "cell_type": "markdown",
      "metadata": {
        "id": "KORZuvEIA9LJ"
      },
      "source": [
        "Współczynnik aktywności po 28 dniach:"
      ]
    },
    {
      "attachments": {},
      "cell_type": "markdown",
      "metadata": {
        "id": "tTjk58qhA9LK"
      },
      "source": [
        "\n",
        "$$k=1600-f(6.25*158-5*20-161)=1600-726.5f$$\n"
      ]
    },
    {
      "attachments": {},
      "cell_type": "markdown",
      "metadata": {
        "id": "zzP8HfejA9LK"
      },
      "source": [
        "\n",
        "$$m(28)= 61.6 = \\left(62 -\\frac{1600-726.5f}{10f}\\right)e^{\\frac{-28f}{770}}+\\frac{1600-726.5f}{10f}$$\n"
      ]
    },
    {
      "attachments": {},
      "cell_type": "markdown",
      "metadata": {
        "id": "L8vEhMnjA9LK"
      },
      "source": [
        "\n",
        "$$f ≈1.27$$\n"
      ]
    },
    {
      "attachments": {},
      "cell_type": "markdown",
      "metadata": {
        "id": "315vnLicA9LK"
      },
      "source": [
        "Ania chce ważyć 53 kg, kiedy to osiągnie, jeśli nadal będzie spożywać 1600 kcal i utrzymywała swoją aktywność?"
      ]
    },
    {
      "attachments": {},
      "cell_type": "markdown",
      "metadata": {
        "id": "EsdOMpBJA9LK"
      },
      "source": [
        "\n",
        "\n",
        "$$k=1600-1.27(6.25*158-5*20-161) = 677.345$$\n"
      ]
    },
    {
      "attachments": {},
      "cell_type": "markdown",
      "metadata": {
        "id": "n_yqkC9CA9LL"
      },
      "source": [
        "\n",
        "$$53 = \\left(62 -\\frac{677.345}{12.7}\\right)e^{\\frac{-1.27t}{770}}+\\frac{677.345}{12.7}$$\n"
      ]
    },
    {
      "attachments": {},
      "cell_type": "markdown",
      "metadata": {
        "id": "r-F_qubIA9LL"
      },
      "source": [
        "\n",
        "$$-0.334 = 8.666 e^{\\frac{-1.27t}{770}}$$\n"
      ]
    },
    {
      "attachments": {},
      "cell_type": "markdown",
      "metadata": {
        "id": "HmFhxHNzA9LL"
      },
      "source": [
        "\n",
        "$$-0.0385 ≈ e^{\\frac{-1.27t}{770}}$$\n"
      ]
    },
    {
      "attachments": {},
      "cell_type": "markdown",
      "metadata": {
        "id": "kDqxuVqeA9LL"
      },
      "source": [
        "\n",
        "$$t \\notin \\mathbb{R}$$\n"
      ]
    },
    {
      "attachments": {},
      "cell_type": "markdown",
      "metadata": {
        "id": "Xga2NEFkoq0n"
      },
      "source": [
        "Otrzymaliśmy sprzeczność. Co to oznacza? Oznacza to, że Ania nigdy nie osiągnie swojego celu trzymając się podanych przez nią danych."
      ]
    },
    {
      "attachments": {},
      "cell_type": "markdown",
      "metadata": {
        "id": "tft6yhT9pERx"
      },
      "source": [
        "Poniższy wykres przedstawia jak będzię wyglądać utrata wagi Ani. Widać, że funkcja opisująca nasz model nigdy nie osiągnie wartości $y=53$. Cel jest nieosiągalny."
      ]
    },
    {
      "cell_type": "code",
      "execution_count": null,
      "metadata": {
        "colab": {
          "base_uri": "https://localhost:8080/",
          "height": 130
        },
        "id": "d_3CNj_hA9LM",
        "outputId": "a3bedea5-19c9-4790-a547-8499ba78d45a"
      },
      "outputs": [
        {
          "ename": "SyntaxError",
          "evalue": "ignored",
          "output_type": "error",
          "traceback": [
            "\u001b[0;36m  File \u001b[0;32m\"<ipython-input-1-115526d14446>\"\u001b[0;36m, line \u001b[0;32m1\u001b[0m\n\u001b[0;31m    using Plots\u001b[0m\n\u001b[0m          ^\u001b[0m\n\u001b[0;31mSyntaxError\u001b[0m\u001b[0;31m:\u001b[0m invalid syntax\n"
          ]
        }
      ],
      "source": [
        "using Plots\n",
        "\n",
        "v = 1.27\n",
        "y0 = 62\n",
        "j = 158\n",
        "a = 20\n",
        "s = -161\n",
        "n = 1600\n",
        "t = collect(range(0, stop=1500))\n",
        "X = (y0 .- (n .- v .* (6.25 .* j .- 5 .* a .+ s))./(10 .* v)) .* exp.(-(v .* t)./770) .+ (n .- v .* (6.25 .* j .- 5 .* a .+ s))./(10 .* v) #model\n",
        "x_values=[28] #28 dzień dziety\n",
        "y_values=[61.6] #rzeczywista waga w 28 dniu diety\n",
        "plot(t, X, color=\"red\", label = \"Model\", linewidth=1)\n",
        "scatter!(x_values, y_values, label = \"Rzeczywista waga\", color = \"blue\")\n",
        "A, B = [0,1500], [53,53] #linia celu Ani\n",
        "plot!(A, B, color = \"green\", label = \"Cel\", ls=:dot)\n",
        "plot!(legend=:topright)\n",
        "xlims!(0, 1500)\n",
        "ylims!(50, 64)\n",
        "title!((\"Zmiana masy ciała Ani\"))\n",
        "xlabel!(\"Czas [dni]\")\n",
        "ylabel!(\"Masa ciała [kg]\")"
      ]
    },
    {
      "attachments": {},
      "cell_type": "markdown",
      "metadata": {
        "id": "f89M3Z0TA9LM"
      },
      "source": [
        "Obliczmy więc najniższą wagę, którą osiągnie Ania, pozostająć w tym samym trybie życia:"
      ]
    },
    {
      "attachments": {},
      "cell_type": "markdown",
      "metadata": {
        "id": "TI0zrSF8A9LM"
      },
      "source": [
        "\n",
        "$$n=T$$\n"
      ]
    },
    {
      "attachments": {},
      "cell_type": "markdown",
      "metadata": {
        "id": "TPIBUnm0A9LM"
      },
      "source": [
        "\n",
        "$$1600=1.27(10m+6.25*158-5*20-161)$$\n",
        "\n",
        "\n"
      ]
    },
    {
      "attachments": {},
      "cell_type": "markdown",
      "metadata": {
        "id": "CvB-uHe2A9LN"
      },
      "source": [
        "\n",
        "\n",
        "$$m=53 \\frac{849}{2540} ≈ 53.33$$\n",
        "\n"
      ]
    },
    {
      "attachments": {},
      "cell_type": "markdown",
      "metadata": {
        "id": "lyfgfYWZA9LN"
      },
      "source": [
        "Najniższa waga jest minimalnie większa od wagi docelowej. Co jeśli mimo wszystko Ania chciałaby schudnąć do 53 kilogramów? \\\\\n",
        "Może zmiejszyć ilość spożywanych kalorii lub zwiększyć swoją aktywność.\n",
        "\n",
        " Porównamy 3 przypadki:\n",
        "* zmniejszy ilość kilokalorii do 1500,\n",
        "* zwiększy swoją aktywność i osiągnie wskaźnik aktywności do 1.35,\n",
        "* zrobi obie rzeczy."
      ]
    },
    {
      "attachments": {},
      "cell_type": "markdown",
      "metadata": {
        "id": "w3p3nT3mA9LN"
      },
      "source": [
        "Po 28 dniach poprzedniej diety Ania waży teraz 61.6 kg.\n",
        "\n",
        "**Zmniejszenie dziennego spożycia do 1500 kcal**"
      ]
    },
    {
      "attachments": {},
      "cell_type": "markdown",
      "metadata": {
        "id": "Mv_2VAbTA9LN"
      },
      "source": [
        "\\begin{equation}\n",
        "k=1500-1.27(6.25*158-5*20-161) = 577.345\n",
        "\\end{equation}\n"
      ]
    },
    {
      "attachments": {},
      "cell_type": "markdown",
      "metadata": {
        "id": "5tE2Pz-NA9LN"
      },
      "source": [
        "\\begin{equation}\n",
        "53 = \\left(61.6 -\\frac{577.345}{12.7}\\right)e^{\\frac{-1.27t}{770}}+\\frac{577.345}{12.7}\n",
        "\\end{equation}"
      ]
    },
    {
      "attachments": {},
      "cell_type": "markdown",
      "metadata": {
        "id": "yAjXWOUWA9LO"
      },
      "source": [
        "\\begin{equation}\n",
        "7.53976 = 16.13976 e^{\\frac{-1.27t}{770}}\n",
        "\\end{equation}"
      ]
    },
    {
      "attachments": {},
      "cell_type": "markdown",
      "metadata": {
        "id": "fynJD1Y3A9LO"
      },
      "source": [
        "\\begin{equation}\n",
        "0.46715 ≈ e^{\\frac{-1.27t}{770}}\n",
        "\\end{equation}"
      ]
    },
    {
      "attachments": {},
      "cell_type": "markdown",
      "metadata": {
        "id": "r8mp4xYRA9LO"
      },
      "source": [
        "\\begin{equation}\n",
        "t \\approx 461\n",
        "\\end{equation}"
      ]
    },
    {
      "attachments": {},
      "cell_type": "markdown",
      "metadata": {
        "id": "oMdmdFDBA9LO"
      },
      "source": [
        " **Zwiększenie aktywności, aby wskaźnik był równy 1.35**"
      ]
    },
    {
      "attachments": {},
      "cell_type": "markdown",
      "metadata": {
        "id": "81FLMuEfA9LO"
      },
      "source": [
        " \\begin{equation}\n",
        "k=1600-1.35(6.25*158-5*20-161) = 619.225\n",
        "\\end{equation}"
      ]
    },
    {
      "attachments": {},
      "cell_type": "markdown",
      "metadata": {
        "id": "piFf1KsLA9LP"
      },
      "source": [
        "\\begin{equation}\n",
        "53 = \\left(61.6 -\\frac{619.225}{13.5}\\right)e^{\\frac{-1.35t}{770}}+\\frac{619.225}{13.5}\n",
        "\\end{equation}"
      ]
    },
    {
      "attachments": {},
      "cell_type": "markdown",
      "metadata": {
        "id": "4WGneyRaA9LP"
      },
      "source": [
        "\\begin{equation}\n",
        "7.131 = 15.731 e^{\\frac{-1.35t}{770}}\n",
        "\\end{equation}"
      ]
    },
    {
      "attachments": {},
      "cell_type": "markdown",
      "metadata": {
        "id": "Z52YCjUtA9LP"
      },
      "source": [
        "\\begin{equation}\n",
        "0.453 ≈ e^{\\frac{-1.35t}{770}}\n",
        "\\end{equation}"
      ]
    },
    {
      "attachments": {},
      "cell_type": "markdown",
      "metadata": {
        "id": "0KS6uD_FA9LP"
      },
      "source": [
        "\\begin{equation}\n",
        "t \\approx 451\n",
        "\\end{equation}"
      ]
    },
    {
      "attachments": {},
      "cell_type": "markdown",
      "metadata": {
        "id": "tFA4fHHYA9LQ"
      },
      "source": [
        "**Zrobi obie rzeczy**"
      ]
    },
    {
      "attachments": {},
      "cell_type": "markdown",
      "metadata": {
        "id": "ApVQJDLOA9LQ"
      },
      "source": [
        " \\begin{equation}\n",
        "k=1500-1.35(6.25*158-5*20-161) = 519.225\n",
        "\\end{equation}"
      ]
    },
    {
      "attachments": {},
      "cell_type": "markdown",
      "metadata": {
        "id": "IYv-DutUA9LQ"
      },
      "source": [
        "\\begin{equation}\n",
        "53 = \\left(61.6 -\\frac{519.225}{13.5}\\right)e^{\\frac{-1.35t}{770}}+\\frac{519.225}{13.5}\n",
        "\\end{equation}"
      ]
    },
    {
      "attachments": {},
      "cell_type": "markdown",
      "metadata": {
        "id": "MiRrDg41A9LQ"
      },
      "source": [
        "\\begin{equation}\n",
        "14.538 = 23.138 e^{\\frac{-1.35t}{770}}\n",
        "\\end{equation}"
      ]
    },
    {
      "attachments": {},
      "cell_type": "markdown",
      "metadata": {
        "id": "twpQ2CMOA9LR"
      },
      "source": [
        "\\begin{equation}\n",
        "0.6283 ≈ e^{\\frac{-1.35t}{770}}\n",
        "\\end{equation}"
      ]
    },
    {
      "attachments": {},
      "cell_type": "markdown",
      "metadata": {
        "id": "4SucqJcbA9LR"
      },
      "source": [
        "\n",
        "\\begin{equation}\n",
        "t \\approx 265\n",
        "\\end{equation}"
      ]
    },
    {
      "attachments": {},
      "cell_type": "markdown",
      "metadata": {
        "id": "HMi10E7OsJ4c"
      },
      "source": [
        "Jak widzimy, najbardziej korzystne dla Ani będzie jeśli połączy obie te rzeczy. Osiągnie wtedy wymarzoną wagę znacznie szybciej niż gdyby miała wprowadzić tylko jedną zmianę. Predykcje utraty wagi w zależności od zastosowanych zmian prezentują się na poniższym wykresie:"
      ]
    },
    {
      "cell_type": "code",
      "execution_count": null,
      "metadata": {
        "colab": {
          "base_uri": "https://localhost:8080/",
          "height": 130
        },
        "id": "ozZbeCT5A9LR",
        "outputId": "258162f3-ba32-4d87-99f1-acc34606a2f3"
      },
      "outputs": [
        {
          "ename": "SyntaxError",
          "evalue": "ignored",
          "output_type": "error",
          "traceback": [
            "\u001b[0;36m  File \u001b[0;32m\"<ipython-input-3-ca2b2c72c0a9>\"\u001b[0;36m, line \u001b[0;32m1\u001b[0m\n\u001b[0;31m    using Plots\u001b[0m\n\u001b[0m          ^\u001b[0m\n\u001b[0;31mSyntaxError\u001b[0m\u001b[0;31m:\u001b[0m invalid syntax\n"
          ]
        }
      ],
      "source": [
        "using Plots\n",
        "\n",
        "f1 = 1.27\n",
        "f2 = 1.35\n",
        "y0 = 61.6\n",
        "j = 158\n",
        "a = 20\n",
        "s = -161\n",
        "n1 = 1600\n",
        "n2 = 1500\n",
        "t = collect(range(0, stop=500))\n",
        "X1 = (y0.- (n2 .- f1 .* (6.25 .* j .- 5 .* a .+ s))./(10 .* f1)) .* exp.(-(f1 .* t)./770) .+ (n2 .- f1 .* (6.25 .* j .- 5 .* a .+ s))./(10 .* f1) #nasz model, jeśli Ania zmiejszy ilość spożywanych kalorii\n",
        "X2 = (y0.- (n1 .- f2 .* (6.25 .* j .- 5 .* a .+ s))./(10 .* f2)) .* exp.(-(f2 .* t)./770) .+ (n1 .- f2 .* (6.25 .* j .- 5 .* a .+ s))./(10 .* f2) #nasz model, jeśli Ania zwiększy współćzynnik aktywności\n",
        "X3 = (y0.- (n2 .- f2 .* (6.25 .* j .- 5 .* a .+ s))./(10 .* f2)) .* exp.(-(f2 .* t)./770) .+ (n2 .- f2 .* (6.25 .* j .- 5 .* a .+ s))./(10 .* f2) #nasz modej, jeśli Ania zrobi obie rzeczy na raz\n",
        "p_1=plot(t, X1)\n",
        "p_2=plot(t, X2)\n",
        "p_3=plot(t, X3)\n",
        "plot(t, X1, color=\"red\", label = \"Zmniejszenie spożywanych kalorii\", linewidth=2)\n",
        "plot!(t, X2, color=\"purple\", label = \"Zwiększenie wskaźnika aktywności\", linewidth=2)\n",
        "plot!(t, X3, color=\"pink\", label = \"Zmiana obu parametów\", linewidth=2)\n",
        "A, B = [0,600], [53,53] #linia celu Ani\n",
        "plot!(A, B, color = \"green\", label = \"Cel\", ls=:dot, linewidth=2)\n",
        "plot!(legend=:topright)\n",
        "xlims!(0, 500)\n",
        "ylims!(45, 64)\n",
        "title!((\"Zmiana masy ciała Ani\"))\n",
        "xlabel!(\"Czas [dni]\")\n",
        "ylabel!(\"Masa ciała [kg]\")"
      ]
    },
    {
      "attachments": {},
      "cell_type": "markdown",
      "metadata": {
        "id": "wHojiLGwk8JN"
      },
      "source": [
        "#**5. METODY NUMERYCZNE**"
      ]
    },
    {
      "attachments": {},
      "cell_type": "markdown",
      "metadata": {
        "id": "N-j2qC9Q03vO"
      },
      "source": [
        "## **Metoda Eulera**\n",
        "\n",
        "Metoda Eulera jest procedurą numeryczną pierwszego rzędu, która służy do rozwiązywania równań różniczkowych zwyczajnych z zadaną wartością początkową. Jest ona najbardziej podstawowa i jawna. Zajmiemy się metodą standarową:\n",
        "\n",
        "Metoda ta jest opisana wzorem rekurencyjnym\n",
        "\n",
        "\n",
        "$$ y_{n} = y_{n-1}+hf(x_{n},y_{n}).$$\n",
        "\n",
        "Poniżej przedstawiłyśmy zestawienie rozwiązania naszego modelu metody analitycznej z metodą Eulera, które przewidują wagę kobiety o średnim współczynniku aktywności fizycznej.\n",
        "\n",
        "W celu analizy, do metody analitycznej zastosowaliśmy wcześniej wyznaczony wzór."
      ]
    },
    {
      "cell_type": "code",
      "execution_count": null,
      "metadata": {
        "colab": {
          "base_uri": "https://localhost:8080/",
          "height": 130
        },
        "id": "u-WMC4Z40_6v",
        "outputId": "84052d74-0ac3-4d0e-b11b-66d5235783c0"
      },
      "outputs": [
        {
          "ename": "SyntaxError",
          "evalue": "ignored",
          "output_type": "error",
          "traceback": [
            "\u001b[0;36m  File \u001b[0;32m\"<ipython-input-1-14ef98fcd470>\"\u001b[0;36m, line \u001b[0;32m1\u001b[0m\n\u001b[0;31m    using Plots\u001b[0m\n\u001b[0m          ^\u001b[0m\n\u001b[0;31mSyntaxError\u001b[0m\u001b[0;31m:\u001b[0m invalid syntax\n"
          ]
        }
      ],
      "source": [
        "using Plots\n",
        "\n",
        "n = 1500\n",
        "f = 1.4\n",
        "h = 170\n",
        "a = 20\n",
        "s = -161\n",
        "step_h = 1\n",
        "\n",
        "t = 0:step_h:800\n",
        "x = 0:step_h:800\n",
        "i = length(x)\n",
        "\n",
        "deriv = zeros(Float64, i)\n",
        "y = zeros(Float64, i)\n",
        "\n",
        "y[1] = 80\n",
        "deriv[1] = -1\n",
        "\n",
        "function funkcja(m)\n",
        "    return (n - f*(10*m + 6.25*h - 5*a + s))/7700\n",
        "end\n",
        "\"\"\"\n",
        "for k in 1:i-1 - Rozpoczyna pętle for iterującą od 1 do i-1.\n",
        "y[k+1] = y[k] + step_h * funkcja(y[k]) - Oblicza kolejne wartości funkcji y w zależności od wartości poprzednich.\n",
        "deriv[k+1] = deriv[k] + step_h * deriv[k] - Oblicza kolejne wartości pochodnej deriv w zależności od wartości poprzednich.\n",
        "\"\"\"\n",
        "for k in 1:i-1\n",
        "    y[k+1] = y[k] + step_h * funkcja(y[k])\n",
        "    deriv[k+1] = deriv[k] + step_h * deriv[k]\n",
        "end\n",
        "\n",
        "analytic = (80 - (n-f*(6.25*h-5*a+s))/(10*f)) .* exp.(-(f.*t)./770) .+ (n-f*(6.25*h-5*a+s))./(10*f)\n",
        "\n",
        "\n",
        "scatter(x, y, markershape=:circle)\n",
        "plot!(t, analytic, linewidth=1, label=\"analityczna\")\n",
        "annotate!(800, y[end]-10, \"analityczna\")\n",
        "xlabel!(\"Czas [dni]\")\n",
        "ylabel!(\"Masa ciala [kg]\")\n",
        "title!(\"Zmiana masy ciala kobiety dla skoku step_h = 1\")"
      ]
    },
    {
      "attachments": {},
      "cell_type": "markdown",
      "metadata": {
        "id": "bFKPk8WT1Ekc"
      },
      "source": [
        "Dla małej wartości h=1 metoda ta dobrze odzwierciedla wynik analityczny.\n",
        "\n",
        "Sprawdźmy jak zatem metoda ta radzi sobie przy większym skoku np. $h=10$."
      ]
    },
    {
      "cell_type": "code",
      "execution_count": null,
      "metadata": {
        "id": "Sy4NKyc_03Qm"
      },
      "outputs": [],
      "source": [
        "using Plots\n",
        "\n",
        "n = 1500\n",
        "f = 1.4\n",
        "h = 170\n",
        "a = 20\n",
        "s = -161\n",
        "step_h = 10\n",
        "\n",
        "t = 0:step_h:800\n",
        "x = t[1:end-1]  # Zmiana tworzenia wektora x\n",
        "i = length(x)\n",
        "\n",
        "deriv = zeros(Float64, i)\n",
        "y = zeros(Float64, i)\n",
        "\n",
        "y[1] = 80\n",
        "deriv[1] = -1\n",
        "\n",
        "function funkcyjka(m)\n",
        "    return (n - f*(10*m + 6.25*h - 5*a + s))/7700\n",
        "end\n",
        "\n",
        "for k in 1:i-1\n",
        "    y[k+1] = y[k] + step_h * funkcyjka(y[k])\n",
        "    deriv[k+1] = deriv[k] + step_h * deriv[k]\n",
        "end\n",
        "\n",
        "analytic = (y[1] - (n-f*(6.25*h-5*a+s))/(10*f)) .* exp.(-(f.*t)./770) .+ (n-f*(6.25*h-5*a+s))./(10*f)\n",
        "\n",
        "scatter(x, y, markershape=:circle, label=\"Eulera\")\n",
        "plot!(t, analytic, linewidth=1, label=\"Analityczna\")\n",
        "xlabel!(\"Czas [dni]\")\n",
        "ylabel!(\"Masa ciała [kg]\")\n",
        "title!(\"Zmiana masy ciała kobiety dla skoku step_h = 10\")"
      ]
    },
    {
      "attachments": {},
      "cell_type": "markdown",
      "metadata": {
        "id": "-UC6kBAZ1Txr"
      },
      "source": [
        "Dla większego skoku wykres nadal dobrze odwzorowuje rozwiązanie analityczne. Dopiero dla bardzo dużych skoków metoda Eulera nie zachowuje już takiej dokładności.\n",
        "\n",
        "Dla skoku $h$ = 100 mamy"
      ]
    },
    {
      "cell_type": "code",
      "execution_count": null,
      "metadata": {
        "id": "qWwBuXPh1Usb"
      },
      "outputs": [],
      "source": [
        "using Plots\n",
        "\n",
        "n = 1500\n",
        "f = 1.4\n",
        "h = 170\n",
        "a = 20\n",
        "s = -161\n",
        "step_h = 100\n",
        "\n",
        "t = 0:step_h:800\n",
        "x = 0:step_h:800\n",
        "i = length(x)\n",
        "\n",
        "deriv = zeros(Float64, i)\n",
        "y = zeros(Float64, i)\n",
        "\n",
        "y[1] = 80\n",
        "deriv[1] = -1\n",
        "\n",
        "function funkcja(m)\n",
        "    return (n - f*(10*m + 6.25*h - 5*a + s))/7700\n",
        "end\n",
        "\n",
        "for k in 1:i-1\n",
        "    y[k+1] = y[k] + step_h * funkcja(y[k])\n",
        "    deriv[k+1] = deriv[k] + step_h * deriv[k]\n",
        "end\n",
        "\n",
        "analytic = (80 - (n-f*(6.25*h-5*a+s))/(10*f)) .* exp.(-(f.*t)./770) .+ (n-f*(6.25*h-5*a+s))./(10*f)\n",
        "\n",
        "\n",
        "# scatter(x, y, markershape=:circle)\n",
        "plot(x, y, line=:solid, marker= false, linewidth=1, label = \"Eulera\")\n",
        "plot!(t, analytic, linewidth=1, label=\"Analityczna\")\n",
        "annotate!(800, y[end]-10, \"analityczna\")\n",
        "xlabel!(\"Czas [dni]\")\n",
        "ylabel!(\"Masa ciala [kg]\")\n",
        "title!(\"Zmiana masy ciala kobiety dla skoku step_h = 100\")"
      ]
    },
    {
      "attachments": {},
      "cell_type": "markdown",
      "metadata": {
        "id": "6lVmG3uS1YAz"
      },
      "source": [
        "Widzimy, że dla małych wartości $h$, metoda Eulera pokrywa się z wynikiem analitycznym, dopiero przy bardzo dużych skokach $h$ widoczny jest odchył od wykresu metody analitycznej."
      ]
    },
    {
      "attachments": {},
      "cell_type": "markdown",
      "metadata": {
        "id": "BCxNjgev1Y-b"
      },
      "source": [
        "## **Metoda Rungego-Kutty**\n",
        "\n",
        "Metoda Rungego-Kutty (RK) jest wydajnym i powszechnie stosowanym podejściem do rozwiązywania problemów z wartościami początkowymi równań różniczkowych. Służy do generowania dokładnych metod numerycznych wysokiego rzędu bez konieczności stosowania pochodnych funkcji wysokiego rzędu. Runge scharakteryzował zestaw metod 4. rzędu. W rzeczywistości istnieje rodzina tych metod, jednak my użyjemy najprostszej przedstawionej poniżej.\n",
        "\n",
        "$$\\frac{dx}{dt} = f(x,t) \\ \\ \\ \\ \\ \\ x(t_{0})=x_{0}$$\n",
        "\n",
        "Następnie korzystamy z rozwinięcia w szereg Taylora, który dla metody czwartego rzędu wygląda następująco.\n",
        "\n",
        "$$y_{i+1}=y_{i}+f(x_{i},y_{i})h+ \\frac{1}{2!}f'(x_{i},y_{i})h^{2}+ \\frac{1}{3!}f''(x_{i},y_{i})h^{3}+\\frac{1}{4!}f'''(x_{i},y_{i})h^{4}$$\n",
        "\n",
        "\n",
        "Stosowany jest najczęściej jednak zapis\n",
        "\n",
        "$$y_{i+1} = y_{i}+\\frac{1}{6}(k_{1}+k_{2}+k_{3}+k_{4})h$$\n",
        "\n",
        "gdzie\n",
        "\n",
        "$$k_{1}=f(x_{i},y_{i})$$\n",
        "$$k_{2}= f(x_{i} + \\frac{1}{2}h,y_{i} + \\frac{1}{2}k_{1}h)$$\n",
        "$$k_{3}=f(x_{i} +  \\frac{1}{2}h,y_{i} + \\frac{1}{2}k_{2}h)$$\n",
        "$$k_{4}=f(x_{i}+h,y_{i} +k_{3}h)$$"
      ]
    },
    {
      "cell_type": "code",
      "execution_count": null,
      "metadata": {
        "id": "3MezplU71k_M"
      },
      "outputs": [],
      "source": [
        "using Plots\n",
        "\n",
        "step_h = 1\n",
        "f = 1.3\n",
        "y0 = 80\n",
        "h = 170\n",
        "a = 25\n",
        "s = -161\n",
        "n = 1500\n",
        "d = 0.1\n",
        "\n",
        "t = 0:d:300\n",
        "func(t, y) = (n - f * (10 * y + 6.25 * h - 5 * a + s)) / 7700\n",
        "\n",
        "X = (80 - (n - f * (6.25 * h - 5 * a + s)) / (10 * f)) .* exp.(-(f .* t) / 770) .+ (n - f * (6.25 * h - 5 * a + s)) / (10 * f)\n",
        "\n",
        "function runge_kutta(func, y0, tk, step_h)\n",
        "    t = 0:step_h:tk\n",
        "    y = zeros(length(t))\n",
        "    y[1] = y0\n",
        "    for n in 1:length(t)-1\n",
        "        k1 = step_h * func(t[n], y[n])\n",
        "        k2 = step_h * func(t[n] + 0.5 * step_h, y[n] + 0.5 * k1)\n",
        "        k3 = step_h * func(t[n] + 0.5 * step_h, y[n] + 0.5 * k2)\n",
        "        k4 = step_h * func(t[n] + step_h, y[n] + k3)\n",
        "        y[n + 1] = y[n] + (1.0 / 6.0) * (k1 + 2 * k2 + 2 * k3 + k4)\n",
        "    end\n",
        "    return y\n",
        "end\n",
        "\n",
        "\n",
        "scatter(t, runge_kutta(func, y0, 300, d), label = \"Runge-Kutta\", markersize = 3)\n",
        "plot!(t[1:10:end], X[1:10:end], label = \"Analitycznie\", linestyle = :dash)\n",
        "\n",
        "xlims!(0, 300)\n",
        "title!(\"Zmiana masy ciała kobiety dla step_h = 1\")\n",
        "xlabel!(\"Czas [dni]\")\n",
        "ylabel!(\"Masa ciała [kg]\")"
      ]
    },
    {
      "cell_type": "code",
      "execution_count": null,
      "metadata": {
        "id": "Q0t80gZP1m4C"
      },
      "outputs": [],
      "source": [
        "using Plots\n",
        "\n",
        "step_h = 100\n",
        "f = 1.3\n",
        "y0 = 80\n",
        "h = 170\n",
        "a = 25\n",
        "s = -161\n",
        "n = 1500\n",
        "d = 0.1\n",
        "\n",
        "t = 0:d:300\n",
        "\"\"\"\n",
        "Funkcja, która opisuje równanie różniczkowe zwyczajne\n",
        "\"\"\"\n",
        "func(t, y) = (n - f * (10 * y + 6.25 * h - 5 * a + s)) / 7700\n",
        "\n",
        "X = (80 - (n - f * (6.25 * h - 5 * a + s)) / (10 * f)) .* exp.(-(f .* t) / 770) .+ (n - f * (6.25 * h - 5 * a + s)) / (10 * f)\n",
        "\n",
        "function runge_kutta(func, y0, tk, step_h)\n",
        "    t = 0:step_h:tk\n",
        "    y = zeros(length(t))\n",
        "    y[1] = y0\n",
        "    \n",
        "    \"\"\"\n",
        "    W pętli, dla każdego indeksu n od 1 do długości wektora t minus 1,\n",
        "    obliczane są kolejne wartości k1, k2, k3 i k4 używając metod Rungego-Kutty.\n",
        "    W każdej iteracji obliczana jest pochodna funkcji w odpowiednich punktach czasu i wartościach funkcji.\n",
        "    Z obliczonych wartości k1, k2, k3 i k4, wartość funkcji w kolejnym punkcie czasowym jest obliczana\n",
        "    zgodnie z formułą metody Rungego-Kutty czwartego rzędu.\n",
        "    Wartości funkcji w kolejnych punktach czasowych są zapisywane w wektorze y.\n",
        "    \"\"\"\n",
        "\n",
        "    for n in 1:length(t)-1\n",
        "        k1 = step_h * func(t[n], y[n])\n",
        "        k2 = step_h * func(t[n] + 0.5 * step_h, y[n] + 0.5 * k1)\n",
        "        k3 = step_h * func(t[n] + 0.5 * step_h, y[n] + 0.5 * k2)\n",
        "        k4 = step_h * func(t[n] + step_h, y[n] + k3)\n",
        "        y[n + 1] = y[n] + (1.0 / 6.0) * (k1 + 2 * k2 + 2 * k3 + k4)\n",
        "    end\n",
        "    return y\n",
        "end\n",
        "\n",
        "scatter(t, runge_kutta(func, y0, 300, d), label = \"Runge-Kutta\", markersize = 3)\n",
        "plot!(t[1:10:end], X[1:10:end], label = \"Analitycznie\", linestyle = :dash)\n",
        "\n",
        "xlims!(0, 300)\n",
        "title!(\"Zmiana masy ciała kobiety dla step_h = 100\")\n",
        "xlabel!(\"Czas [dni]\")\n",
        "ylabel!(\"Masa ciała [kg]\")"
      ]
    },
    {
      "cell_type": "code",
      "execution_count": null,
      "metadata": {
        "id": "SJzG0KdB1otO"
      },
      "outputs": [],
      "source": [
        "using Plots\n",
        "\n",
        "step_h = 100\n",
        "f = 1.3\n",
        "y0 = 80\n",
        "h = 170\n",
        "a = 25\n",
        "s = -161\n",
        "n = 1500\n",
        "d = 0.1\n",
        "\n",
        "t = 0:d:10000\n",
        "func(t, y) = (n - f * (10 * y + 6.25 * h - 5 * a + s)) / 7700\n",
        "\n",
        "X = (80 - (n - f * (6.25 * h - 5 * a + s)) / (10 * f)) .* exp.(-(f .* t) / 770) .+ (n - f * (6.25 * h - 5 * a + s)) / (10 * f)\n",
        "\n",
        "function runge_kutta(func, y0, tk, step_h)\n",
        "    t = 0:step_h:tk\n",
        "    y = zeros(length(t))\n",
        "    y[1] = y0\n",
        "    for n in 1:length(t)-1\n",
        "        k1 = step_h * func(t[n], y[n])\n",
        "        k2 = step_h * func(t[n] + 0.5 * step_h, y[n] + 0.5 * k1)\n",
        "        k3 = step_h * func(t[n] + 0.5 * step_h, y[n] + 0.5 * k2)\n",
        "        k4 = step_h * func(t[n] + step_h, y[n] + k3)\n",
        "        y[n + 1] = y[n] + (1.0 / 6.0) * (k1 + 2 * k2 + 2 * k3 + k4)\n",
        "    end\n",
        "    return y\n",
        "end\n",
        "\n",
        "scatter(t, runge_kutta(func, y0, 10000, d), label = \"Runge-Kutta\", markersize = 3)\n",
        "plot!(t[1:10:end], X[1:10:end], label = \"Analitycznie\", linestyle = :dash)\n",
        "\n",
        "xlims!(0, 10000)\n",
        "title!(\"Zmiana masy ciała kobiety dla step_h = 100\")\n",
        "xlabel!(\"Czas [dni]\")\n",
        "ylabel!(\"Masa ciała [kg]\")"
      ]
    },
    {
      "attachments": {},
      "cell_type": "markdown",
      "metadata": {
        "id": "IZKczE-u1sic"
      },
      "source": [
        "Analizując wykresy łatwo jest nam zauważyć, że wyniki metody Runge-Kutta niemalże idealnie odzwierciedlają rozwiązanie analityczne nawet dla dużych skoków. Na podstawie tego oraz wyżej przedstawionego rozwiązania Metodą Eulera, można wyciągnąć wnioski, że obie metody dobrze przewidują wagę dla badanej kobiety i dobrze działają dla równania, jednak zdecydowanie lepszą metodą jest metoda Rugnego-Kutty, która pomimo wielkich skoków idealnie wpasowuje się w nasze równanie."
      ]
    },
    {
      "attachments": {},
      "cell_type": "markdown",
      "metadata": {
        "id": "_oVXiMnXfvtx"
      },
      "source": [
        "# **6. APLIKACJA OBLICZANIA ZAPOTRZEBOWANIE KALORYCZNEGO**\n"
      ]
    },
    {
      "cell_type": "code",
      "execution_count": null,
      "metadata": {
        "colab": {
          "base_uri": "https://localhost:8080/",
          "height": 130
        },
        "id": "HHI9rzC_x8PQ",
        "outputId": "8fc3d997-dfdd-4ced-9a35-a36e7d99e98f"
      },
      "outputs": [
        {
          "ename": "SyntaxError",
          "evalue": "ignored",
          "output_type": "error",
          "traceback": [
            "\u001b[0;36m  File \u001b[0;32m\"<ipython-input-2-53448e6882fe>\"\u001b[0;36m, line \u001b[0;32m42\u001b[0m\n\u001b[0;31m    bmr = 10m + 6.25h - 5a + s\u001b[0m\n\u001b[0m           ^\u001b[0m\n\u001b[0;31mSyntaxError\u001b[0m\u001b[0;31m:\u001b[0m invalid decimal literal\n"
          ]
        }
      ],
      "source": [
        "using Gtk\n",
        "\n",
        "#Wykorzystując metodę analityczną stworzyłyśmy aplikację obliczającą zapotrzebowanie kaloryczne w\n",
        "#zależności od naszego celu wagowego i czasu, w którym chcemy go osiągnąć.\n",
        "\n",
        "\"\"\"\n",
        "    oblicz_n(f, h, a, s, m0, m_t, t)\n",
        "\n",
        "Funkcja obliczająca ilość kalorii na podstawie wzoru modelowego.\n",
        "\n",
        "## Argumenty\n",
        "- `f::Float64`: Współczynnik związany z aktywnością fizyczną.\n",
        "- `h::Float64`: Wzrost w centymetrach.\n",
        "- `a::Int`: Wiek w latach.\n",
        "- `s::Int`: Stała zależna od płci.\n",
        "- `m0::Float64`: Waga aktualna w kilogramach.\n",
        "- `m_t::Float64`: Waga docelowa w kilogramach.\n",
        "- `t::Float64`: Czas w dniach do osiągnięcia wagi docelowej.\n",
        "\n",
        "## Zwracane wartości\n",
        "- `n::Float64`: Zapotrzebowanie kaloryczne.\n",
        "\n",
        "\"\"\"\n",
        "function oblicz_n(f, h, a, s, m0, m_t, t)\n",
        "  n = f * (6.25 * h - 5 * a + s) + 10 * f * ((m_t - m0 * exp(-f * t / 770)) / (1 - exp(-f * t / 770)))\n",
        "  return n\n",
        "end\n",
        "\n",
        "\"\"\"\n",
        "    BMR(m, h, a, s)\n",
        "\n",
        "Funkcja obliczająca podstawową przemianę materii.\n",
        "\n",
        "## Argumenty\n",
        "- `m::Float64`: Waga w kilogramach.\n",
        "- `h::Float64`: Wzrost w centymetrach.\n",
        "- `a::Int`: Wiek w latach.\n",
        "- `s::Int`: Stała zależna od płci.\n",
        "\n",
        "## Zwracane wartości\n",
        "- `bmr::Float64`: Podstawowa przemiana materii.\n",
        "\n",
        "\"\"\"\n",
        "\n",
        "#Podstawowa przemiana materii to minimalna ilość kalorii jaką organizm musi przyjmować, aby mieć energię na wszystkie funkcje życiowe.\n",
        "#Aplikacja nie poda ilości kalorii do osiągnięcia celu, jeśli obliczone kalorie będą mniejsze od BMR.\n",
        "#Absolutnie nie wolno spożywać mniej kalorii niż wynosi nasze BMR. Organizmowi jest wtedy brak energii na podtrzymywanie nas przy życiu.\n",
        "\n",
        "function BMR(m, h, a, s)\n",
        "  bmr = 10m + 6.25h - 5a + s\n",
        "  return bmr\n",
        "end\n",
        "\n",
        "\n",
        "\"\"\"\n",
        "    BMI(m_t, h)\n",
        "\n",
        "Funkcja obliczająca wskaźnik masy ciała.\n",
        "\n",
        "## Argumenty\n",
        "- `m_t::Float64`: Waga w kilogramach.\n",
        "- `h::Float64`: Wzrost w centymetrach.\n",
        "\n",
        "## Zwracane wartości\n",
        "- `bmi::Float64`: Wskaźnik masy ciała.\n",
        "\n",
        "\"\"\"\n",
        "\n",
        "#BMI to wskaźnik masy ciała - miara stosowana do oceny proporcji ciała i określenia, czy masa ciała osoby jest odpowiednia w kontekście jej wzrostu.\n",
        "#Używamy jej w aplikacji aby zablokować użytkownikowi możliwość osiągnięcia zbyt niskiej wagi docelowej\n",
        "\n",
        "function BMI(m_t, h)\n",
        "  bmi = m_t / (h/100)^2\n",
        "  return bmi\n",
        "end\n",
        "\n",
        "\"\"\"\n",
        "    calkowite_zapotrzebowanie(f, m_t, h, a, s)\n",
        "\n",
        "Funkcja obliczająca całkowite zapotrzebowanie energetyczne.\n",
        "\n",
        "## Argumenty\n",
        "- `f::Float64`: Współczynnik związany z aktywnością fizyczną.\n",
        "- `m_t::Float64`: Waga docelowa w kilogramach.\n",
        "- `h::Float64`: Wzrost w centymetrach.\n",
        "- `a::Int`: Wiek w latach.\n",
        "- `s::Int`: Stała zależna od płci.\n",
        "\n",
        "## Zwracane wartości\n",
        "- `zapotrzebowanie::Float64`: Całkowite zapotrzebowanie kaloryczne.\n",
        "\n",
        "\"\"\"\n",
        "\n",
        "#Całkowite zapotrzebowanie kaloryczne to, inaczej mówiąc, - zero kaloryczne.\n",
        "#Jest to ilość kalorii którą organizm zużywa w ciągu dnia.\n",
        "#Jeśli będziemy jeść więcej niż całkowite zapotrzebowanie - przytyjemy\n",
        "#Jeśli będziemy jeść mniej niż całkowite zapotrzebowanie - schudniemy\n",
        "\n",
        "function calkowite_zapotrzebowanie(f, m_t, h, a, s)\n",
        "    zapotrzebowanie = f*(10m_t + 6.25h - 5a + s)\n",
        "    return zapotrzebowanie\n",
        "end\n",
        "\n",
        "\"\"\"\n",
        "    przelicznik(widget, wiek, wzrost, waga, waga2, czas, male_radio, female_radio, aktywnosc, result_label)\n",
        "\n",
        "Funkcja odpowiedzialna za odpowiednią odpowiedź programu w zależności od wprowadzonych danych.\n",
        "\n",
        "## Argumenty\n",
        "- `widget`: Obiekt, który wywołał funkcję.\n",
        "- `wiek::Gtk.Entry`: Pole tekstowe z wiekiem.\n",
        "- `wzrost::Gtk.Entry`: Pole tekstowe z wzrostem.\n",
        "- `waga::Gtk.Entry`: Pole tekstowe z wagą aktualną.\n",
        "- `waga2::Gtk.Entry`: Pole tekstowe z wagą docelową.\n",
        "- `czas::Gtk.Entry`: Pole tekstowe z czasem do osiągnięcia celu.\n",
        "- `male_radio::Gtk.RadioButton`: Przycisk wyboru płci męskiej.\n",
        "- `female_radio::Gtk.RadioButton`: Przycisk wyboru płci żeńskiej.\n",
        "- `aktywnosc::Gtk.ComboBoxText`: Lista rozwijana z wyborem poziomu aktywności.\n",
        "- `result_label::Gtk.Label`: Etykieta z wynikiem.\n",
        "\n",
        "\"\"\"\n",
        "function przelicznik(widget, wiek, wzrost, waga, waga2, czas, male_radio, female_radio, aktywnosc, result_label) #łączymy tu wszystko w całość\n",
        "  try\n",
        "    a = parse(Int, get_gtk_property(wiek, :text, String))\n",
        "    h = parse(Float64, get_gtk_property(wzrost, :text, String))\n",
        "    m0 = parse(Float64, get_gtk_property(waga, :text, String))\n",
        "    m_t = parse(Float64, get_gtk_property(waga2, :text, String))\n",
        "    t = parse(Float64, get_gtk_property(czas, :text, String))\n",
        "\n",
        "    indeks_wybranej_aktywnosci = get_gtk_property(aktywnosc, :active, Int) #lista aktywności do wybrania \"zgodnie z naszym sumieniem\"\n",
        "    wybrana_aktywnosc = Gtk.bytestring(GAccessor.active_text(aktywnosc)) #przyciski wyboru płci\n",
        "\n",
        "    aktywnosc_do_f = Dict(\n",
        "      \"Brak aktywności fizycznej, osoba leżąca w łóżku\" => 1.25,\n",
        "      \"Niska aktywność fizyczna (pojedyncze treningi w tygodniu)\" => 1.4,\n",
        "      \"Średnia aktywność (parę treningów w tygodniu)\" => 1.6,\n",
        "      \"Wysoka aktywność fizyczna (wiele treningów w tygodniu)\" => 1.85,\n",
        "      \"Bardzo wysoka aktywność – najczęściej sport zawodowy\" => 2.2\n",
        "    )\n",
        "\n",
        "    f = aktywnosc_do_f[wybrana_aktywnosc]\n",
        "\n",
        "    jest_meska = get_gtk_property(male_radio, :active, Bool)\n",
        "    s = jest_meska ? 5 : -161 #przypisanie odpowiedniej wartości do s w zależności od płci\n",
        "\n",
        "    n = oblicz_n(f, h, a, s, m0, m_t, t)\n",
        "\n",
        "    bmr = BMR(m0, h, a, s)\n",
        "\n",
        "    bmi = BMI(m_t, h)\n",
        "\n",
        "    zapotrzebowanie = calkowite_zapotrzebowanie(f, m_t, h, a, s)\n",
        "\n",
        "    if h > 0 && a > 0 && m0 > 0 && m_t > 0 && t > 0 #wprowadzone dane muszą być dodatnie\n",
        "      if bmi < 16 #sprawdzamy czy nie będzie wychudzenia\n",
        "        set_gtk_property!(result_label, :label, \"Ostrzeżenie: Twoja waga docelowa wiąże się ze skrajnym wychudzeniem!\")\n",
        "      else\n",
        "        if n >= bmr && n < 10000 #limit 10000 kcal ustaliłyśmy same, ponieważ nie mamy takiej wiedzy medycznej, aby stwierdzić jaka maksymalna dawka kalorii jest dla człowieka, ale jest to wciąż ogromna liczba\n",
        "          if m0 == m_t #Jeżeli ktoś wpisze taką samą wagę docelową co aktualną - obliczamy jego zapotrzebowanie\n",
        "            set_gtk_property!(result_label, :label, \"Kalorie potrzebne do utrzymania wagi: $(round(zapotrzebowanie, digits=2))\")\n",
        "          else\n",
        "            set_gtk_property!(result_label, :label, \"Kalorie potrzebne do osiągnięcia celu: $(round(n, digits=2)). Aby utrzymać docelową wagę należy spożywać: $(round(zapotrzebowanie, digits=2)) kalorii\") #jeżeli użytkownik zdrowo podejdzie do tematu, aplikacja obliczy ilość kalorii\n",
        "          end\n",
        "        else #Kiedy cel nie jest osiągalny w podaną liczbę dni - aplikacja wylicza w ile dni zrobi to najszybciej, ale zdrowo\n",
        "          min_dni = t\n",
        "          while n < bmr || n > 10000\n",
        "            min_dni += 1\n",
        "            n = oblicz_n(f, h, a, s, m0, m_t, min_dni)\n",
        "          end\n",
        "\n",
        "          if min_dni == t\n",
        "            set_gtk_property!(result_label, :label, \"Ostrzeżenie: Deficyt kaloryczny jest zbyt niski.\")\n",
        "          else\n",
        "            min_dni_rounded = Int(round(min_dni, digits=0))\n",
        "            set_gtk_property!(result_label, :label, \"Ostrzeżenie: Cel nieosiągalny w podanym czasie. Najszybciej osiągniesz cel w $(round(min_dni_rounded)) dni, spożywając $(round(n, digits=2)) kalorii dziennie.\")\n",
        "          end\n",
        "        end\n",
        "      end\n",
        "    else\n",
        "      set_gtk_property!(result_label, :label, \"Ostrzeżenie: Wartości muszą być większe od 0.\")\n",
        "    end\n",
        "  catch e #wyłapujemy błędy w programie\n",
        "    if e isa ArgumentError\n",
        "      set_gtk_property!(result_label, :label, \"Błąd: Nieprawidłowe dane wejściowe\")\n",
        "    elseif e isa KeyError\n",
        "      set_gtk_property!(result_label, :label, \"Błąd: Wybierz poziom aktywności\")\n",
        "    else\n",
        "      println(e)\n",
        "      set_gtk_property!(result_label, :label, \"Błąd: Nieznany błąd\")\n",
        "    end\n",
        "  end\n",
        "end\n",
        "\n",
        "\"\"\"\n",
        "    zamknij(widget, okno)\n",
        "\n",
        "    Wyświetlająca informację o wyjściu i zamyka okno po naciśnięciu przycisku \"Koniec\".\n",
        "\n",
        "## Argumenty\n",
        "- `widget`: Obiekt, który wywołał funkcję.\n",
        "- `okno::Gtk.Window`: Okno programu.\n",
        "\n",
        "\"\"\"\n",
        "function zamknij(widget, okno)\n",
        "  println(\"Wyjście\")\n",
        "  destroy(okno)\n",
        "end\n",
        "\n",
        "#tworzenie interface\n",
        "\n",
        "okno = Gtk.Window(\"Kalkulator kalorii\", 1000, 600)\n",
        "\n",
        "vbox = Gtk.Box(:v, 10)\n",
        "\n",
        "wiek = Gtk.Entry()\n",
        "wzrost = Gtk.Entry()\n",
        "waga = Gtk.Entry()\n",
        "waga2 = Gtk.Entry()\n",
        "czas = Gtk.Entry()\n",
        "\n",
        "male_radio = Gtk.RadioButton(\"Mężczyzna\")\n",
        "female_radio = Gtk.RadioButton(\"Kobieta\"; group = male_radio)\n",
        "\n",
        "aktywnosc = Gtk.ComboBoxText()\n",
        "push!(aktywnosc, \"Wybierz poziom aktywności\")\n",
        "for wybor in [\"Brak aktywności fizycznej, osoba leżąca w łóżku\", \"Niska aktywność fizyczna (pojedyncze treningi w tygodniu)\", \"Średnia aktywność (parę treningów w tygodniu)\", \"Wysoka aktywność fizyczna (wiele treningów w tygodniu)\", \"Bardzo wysoka aktywność – najczęściej sport zawodowy\"]\n",
        "  push!(aktywnosc, wybor)\n",
        "end\n",
        "set_gtk_property!(aktywnosc, :active, 0)\n",
        "\n",
        "push!(vbox, Gtk.Label(\"Wiek\"), wiek)\n",
        "set_gtk_property!(wiek, :max_length, 3)\n",
        "push!(vbox, Gtk.Label(\"Wzrost [cm]\"), wzrost)\n",
        "set_gtk_property!(wzrost, :max_length, 3)\n",
        "push!(vbox, Gtk.Label(\"Waga aktualna [kg]\"), waga)\n",
        "set_gtk_property!(waga, :max_length, 3)\n",
        "push!(vbox, Gtk.Label(\"Waga docelowa [kg]\"), waga2)\n",
        "set_gtk_property!(waga2, :max_length, 3)\n",
        "push!(vbox, Gtk.Label(\"Czas do osiągnięcia celu [dni]\"), czas)\n",
        "push!(vbox, Gtk.Label(\"Płeć\"), male_radio, female_radio)\n",
        "push!(vbox, Gtk.Label(\"Poziom aktywności\"), aktywnosc)\n",
        "\n",
        "oblicz = Gtk.Button(\"Oblicz\")\n",
        "push!(vbox, oblicz)\n",
        "\n",
        "result_label = Gtk.Label(\"\")\n",
        "push!(vbox, result_label)\n",
        "\n",
        "koniec = Gtk.Button(\"Koniec\")\n",
        "push!(vbox, koniec)\n",
        "signal_connect((widget) -> zamknij(widget, okno), koniec, :clicked)\n",
        "\n",
        "signal_connect((widget) -> przelicznik(widget, wiek, wzrost, waga, waga2, czas, male_radio, female_radio, aktywnosc, result_label), oblicz, :clicked)\n",
        "\n",
        "push!(okno, vbox)\n",
        "\n",
        "showall(okno)\n",
        "Gtk.gtk_main()"
      ]
    },
    {
      "attachments": {},
      "cell_type": "markdown",
      "metadata": {
        "id": "kCN90OgDVWOB"
      },
      "source": [
        "# **WNIOSKI**\n",
        "Nasz model jest skuteczny, jednak musimy pamiętać, że będzie on działał tylko dla osób bez zaburzeń odżywiania i chorób.\n",
        "Wiemy, że zbieranie przez nas danych trwało zbyt krótko, aby być w pełni pewnym naszych modeli dla poszczególnych osób, zwłaszcza dla kobiet, których waga często może się zmieniać w cyklu menstruacyjnym. Częstym błędem w próbie zmniejszenia swojej wagi jest zakładanie utraty np. 4 kg miesięcznie. Nasz projekt pokazuje, że z miesiąca na miesiąc wykonanie tego celu będzie dla nas coraz cięższee, a nie osiąganie swoich wyznaczonych celów może nas demotywować\n",
        "i zachęcać do zaprzestania.\n",
        "\n",
        "Musimy również pamiętać o zdrowym podejściu do naszego organizmu, żeby nie głodzić się\n",
        "i nie przeciążać naszego organizmu zbyt częstymi lub intensywnymi treningami. Takie\n",
        "zachowania mogą prowadzić do powolnego wyniszczania naszego organizmu i zwiększa\n",
        "szansę na szybki powrót do starych nawyków.\n",
        "\n",
        "Wychodzenie poza strefę komfortu wyznaczoną przez wieloletnie nawyki jest wyczerpujące i wymaga dodatkowych sił psychicznych. Dlatego też odradza sie jednoczesnego rzucanie palenie i odchudzania przez zbyt duże obciążenie psychiczne.\n",
        "\n",
        "\n",
        "\n",
        "\n",
        "\n"
      ]
    },
    {
      "attachments": {},
      "cell_type": "markdown",
      "metadata": {
        "id": "ecXD7FWzyck2"
      },
      "source": [
        "# **ŹRÓDŁA:**\n",
        "\n",
        "\n",
        "*   https://www.statista.com/statistics/1094223/overweight-prevalence-worldwide/\n",
        "*   https://www.swiadomytrening.pl/artykuly/artykul.php?id=16\n",
        "*   https://pulsmedycyny.pl/do-2035-r-ponad-polowa-ludzi-na-swiecie-bedzie-miala-nadwage-lub-otylosc-raport-1179018\n",
        "*   https://www.poradnikzdrowie.pl/kalkulatory/kalkulator-wagi-bmi-wzor-normy-jak-obliczyc-wartosc-wskaznika-bmi-aa-4Q8M-4h3E-dtKD.html#wskaznik-bmi-normy\n",
        "* https://www.educative.io/answers/what-is-the-runge-kutta-method\n",
        "* Wojciech Grąziewicz, Równania różniczkowe, Politechnika Gdańska 2015\n",
        "* dr hab.inż. Katarzyna Zakrzewska, prof.AGH, Metody Numeryczne. Wykład 7. Równania różniczkowe, Katedra Elektroniki, AGH, 2014\n",
        "* Narodowy Fundusz Zdrowia, Otyłość – choroba wagi ciężkie, Aktualności Centrali, 2022\n",
        "\n",
        "\n",
        "\n",
        "\n"
      ]
    }
  ],
  "metadata": {
    "colab": {
      "provenance": []
    },
    "kernelspec": {
      "display_name": "Julia 1.8.5",
      "language": "julia",
      "name": "julia-1.8"
    },
    "language_info": {
      "file_extension": ".jl",
      "mimetype": "application/julia",
      "name": "julia",
      "version": "1.8.5"
    },
    "orig_nbformat": 4
  },
  "nbformat": 4,
  "nbformat_minor": 0
}
